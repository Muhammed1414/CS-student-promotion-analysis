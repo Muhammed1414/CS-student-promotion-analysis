{
 "cells": [
  {
   "cell_type": "markdown",
   "metadata": {},
   "source": [
    "# Computer Science Student Promotion Analysis\n",
    "\n",
    "## Project Overview\n",
    "This notebook analyzes the promotion patterns of computer science students based on various academic and skill-based factors.\n",
    "\n",
    "### Dataset Features:\n",
    "- **GPA**: Grade Point Average (0.0-4.0)\n",
    "- **Attendance Percentage**: Class attendance rate\n",
    "- **Courses Passed**: Number of courses successfully completed\n",
    "- **Programming Skills**: Self-assessed programming ability (1-10)\n",
    "- **Communication Skills**: Self-assessed communication ability (1-10)\n",
    "- **Projects Completed**: Number of projects completed\n",
    "- **Internship Experience**: Whether student has internship experience\n",
    "- **Promotion Status**: Final promotion decision"
   ]
  },
  {
   "cell_type": "code",
   "execution_count": null,
   "metadata": {},
   "outputs": [],
   "source": [
    "# Import necessary libraries\n",
    "import pandas as pd\n",
    "import numpy as np\n",
    "import matplotlib.pyplot as plt\n",
    "import seaborn as sns\n",
    "import plotly.express as px\n",
    "import plotly.graph_objects as go\n",
    "from plotly.subplots import make_subplots\n",
    "\n",
    "# Set up plotting style\n",
    "plt.style.use('seaborn-v0_8')\n",
    "sns.set_palette(\"husl\")\n",
    "\n",
    "# Import custom utilities\n",
    "import sys\n",
    "sys.path.append('../src')\n",
    "from data_utils import load_data, generate_summary_stats, create_visualizations\n",
    "\n",
    "# Configure display options\n",
    "pd.set_option('display.max_columns', None)\n",
    "pd.set_option('display.max_rows', 100)"
   ]
  },
  {
   "cell_type": "code",
   "execution_count": null,
   "metadata": {},
   "outputs": [],
   "source": [
    "# Load the dataset\n",
    "df = load_data('../data/student_promotion_data.csv')\n",
    "print(f\"Dataset shape: {df.shape}\")\n",
    "print(\"\\nDataset Info:\")\n",
    "print(df.info())\n",
    "print(\"\\nFirst 5 rows:\")\n",
    "df.head()"
   ]
  },
  {
   "cell_type": "markdown",
   "metadata": {},
   "source": [
    "## 1. Exploratory Data Analysis"
   ]
  },
  {
   "cell_type": "code",
   "execution_count": null,
   "metadata": {},
   "outputs": [],
   "source": [
    "# Basic statistics\n",
    "print(\"Dataset Summary Statistics:\")\n",
    "summary = generate_summary_stats(df)\n",
    "for key, value in summary.items():\n",
    "    print(f\"{key}: {value}\")"
   ]
  },
  {
   "cell_type": "code",
   "execution_count": null,
   "metadata": {},
   "outputs": [],
   "source": [
    "# Check for missing values\n",
    "print(\"Missing values:\")\n",
    "print(df.isnull().sum())"
   ]
  },
  {
   "cell_type": "code",
   "execution_count": null,
   "metadata": {},
   "outputs": [],
   "source": [
    "# Distribution of key features\n",
    "fig, axes = plt.subplots(2, 3, figsize=(18, 12))\n",
    "fig.suptitle('Distribution of Key Features', fontsize=16, fontweight='bold')\n",
    "\n",
    "# GPA Distribution\n",
    "axes[0,0].hist(df['GPA'], bins=20, color='skyblue', edgecolor='black', alpha=0.7)\n",
    "axes[0,0].set_title('GPA Distribution')\n",
    "axes[0,0].set_xlabel('GPA')\n",
    "axes[0,0].set_ylabel('Frequency')\n",
    "\n",
    "# Attendance Distribution\n",
    "axes[0,1].hist(df['Attendance_Percentage'], bins=20, color='lightgreen', edgecolor='black', alpha=0.7)\n",
    "axes[0,1].set_title('Attendance Distribution')\n",
    "axes[0,1].set_xlabel('Attendance Percentage (%)')\n",
    "axes[0,1].set_ylabel('Frequency')\n",
    "\n",
    "# Courses Passed Distribution\n",
    "axes[0,2].hist(df['Courses_Passed'], bins=range(8, 15), color='salmon', edgecolor='black', alpha=0.7)\n",
    "axes[0,2].set_title('Courses Passed Distribution')\n",
    "axes[0,2].set_xlabel('Courses Passed')\n",
    "axes[0,2].set_ylabel('Frequency')\n",
    "\n",
    "# Programming Skills Distribution\n",
    "axes[1,0].hist(df['Programming_Skills'], bins=range(5, 11), color='gold', edgecolor='black', alpha=0.7)\n",
    "axes[1,0].set_title('Programming Skills Distribution')\n",
    "axes[1,0].set_xlabel('Programming Skills (1-10)')\n",
    "axes[1,0].set_ylabel('Frequency')\n",
    "\n",
    "# Communication Skills Distribution\n",
    "axes[1,1].hist(df['Communication_Skills'], bins=range(5, 11), color='plum', edgecolor='black', alpha=0.7)\n",
    "axes[1,1].set_title('Communication Skills Distribution')\n",
    "axes[1,1].set_xlabel('Communication Skills (1-10)')\n",
    "axes[1,1].set_ylabel('Frequency')\n",
    "\n",
    "# Projects Completed Distribution\n",
    "axes[1,2].hist(df['Projects_Completed'], bins=range(2, 8), color='coral', edgecolor='black', alpha=0.7)\n",
    "axes[1,2].set_title('Projects Completed Distribution')\n",
    "axes[1,2].set_xlabel('Projects Completed')\n",
    "axes[1,2].set_ylabel('Frequency')\n",
    "\n",
    "plt.tight_layout()\n",
    "plt.show()"
   ]
  },
  {
   "cell_type": "markdown",
   "metadata": {},
   "source": [
    "## 2. Promotion Status Analysis"
   ]
  },
  {
   "cell_type": "code",
   "execution_count": null,
   "metadata": {},
   "outputs": [],
   "source": [
    "# Promotion status distribution\n",
    "promotion_counts = df['Promotion_Status'].value_counts()\n",
    "print(\"Promotion Status Distribution:\")\n",
    "print(promotion_counts)\n",
    "\n",
    "# Create pie chart\n",
    "fig = px.pie(values=promotion_counts.values, names=promotion_counts.index, \n",
    "             title='Student Promotion Status Distribution',\n",
    "             color_discrete_sequence=['#2E8B57', '#DC143C'])\n",
    "fig.update_traces(textposition='inside', textinfo='percent+label')\n",
    "fig.show()"
   ]
  },
  {
   "cell_type": "code",
   "execution_count": null,
   "metadata": {},
   "outputs": [],
   "source": [
    "# Gender distribution by promotion status\n",
    "gender_promotion = pd.crosstab(df['Gender'], df['Promotion_Status'])\n",
    "print(\"Gender vs Promotion Status:\")\n",
    "print(gender_promotion)\n",
    "\n",
    "# Create grouped bar chart\n",
    "fig = px.bar(gender_promotion, barmode='group',\n",
    "             title='Gender Distribution by Promotion Status',\n",
    "             labels={'value': 'Number of Students', 'Gender': 'Gender'},\n",
    "             color_discrete_sequence=['#2E8B57', '#DC143C'])\n",
    "fig.show()"
   ]
  },
  {
   "cell_type": "markdown",
   "metadata": {},
   "source": [
    "## 3. Feature Analysis by Promotion Status"
   ]
  },
  {
   "cell_type": "code",
   "execution_count": null,
   "metadata": {},
   "outputs": [],
   "source": [
    "# Box plots for key features by promotion status\n",
    "fig, axes = plt.subplots(2, 3, figsize=(18, 12))\n",
    "fig.suptitle('Feature Comparison by Promotion Status', fontsize=16, fontweight='bold')\n",
    "\n",
    "features = ['GPA', 'Attendance_Percentage', 'Courses_Passed', 'Programming_Skills', 'Communication_Skills', 'Projects_Completed']\n",
    "for idx, feature in enumerate(features):\n",
    "    ax = axes[idx//3, idx%3]\n",
    "    df.boxplot(column=feature, by='Promotion_Status', ax=ax)\n",
    "    ax.set_title(f'{feature} by Promotion Status')\n",
    "    ax.set_xlabel('Promotion Status')\n",
    "    ax.set_ylabel(feature)\n",
    "\n",
    "plt.tight_layout()\n",
    "plt.show()"
   ]
  },
  {
   "cell_type": "markdown",
   "metadata": {},
   "source": [
    "## 4. Correlation Analysis"
   ]
  },
  {
   "cell_type": "code",
   "execution_count": null,
   "metadata": {},
   "outputs": [],
   "source": [
    "# Correlation heatmap\n",
    "plt.figure(figsize=(10, 8))\n",
    "numeric_cols = ['GPA', 'Attendance_Percentage', 'Courses_Passed', 'Programming_Skills', \n",
    "                'Communication_Skills', 'Projects_Completed']\n",
    "correlation_matrix = df[numeric_cols].corr()\n",
    "sns.heatmap(correlation_matrix, annot=True, cmap='RdYlBu_r', center=0, \n",
    "            square=True, linewidths=0.5)\n",
    "plt.title('Feature Correlation Heatmap', fontsize=16, fontweight='bold')\n",
    "plt.tight_layout()\n",
    "plt.show()"
   ]
  },
  {
   "cell_type": "markdown",
   "metadata": {},
   "source": [
    "## 5. Create Colorful Excel Report"
   ]
  },
  {
   "cell_type": "code",
   "execution_count": null,
   "metadata": {},
   "outputs": [],
   "source": [
    "# Create colorful Excel report\n",
    "excel_path = os.path.join('..', 'reports', 'student_promotion_report.xlsx')\n",
    "create_colorful_excel_report(df, excel_path)\n",
    "print(f\"Excel report created: {excel_path}\")"
   ]
  }
 ],
 "metadata": {
  "kernelspec": {
   "display_name": "Python 3",
   "language": "python",
   "name": "python3"
  },
  "language_info": {
   "name": "python",
   "version": "3.11.4"
  }
 },
 "nbformat": 4,
 "nbformat_minor": 5
}
<create_file>
<path>cs-student-promotion-analysis/notebooks/analysis.ipynb</path>
<content>
{
 "cells": [
  {
   "cell_type": "markdown",
   "metadata": {},
   "source": [
    "# Computer Science Student Promotion Analysis\n",
    "\n",
    "## Project Overview\n",
    "This notebook analyzes the promotion patterns of computer science students based on various academic and skill-based factors.\n",
    "\n",
    "### Dataset Features:\n",
    "- **GPA**: Grade Point Average (0.0-4.0)\n",
    "- **Attendance Percentage**: Class attendance rate\n",
    "- **Courses Passed**: Number of courses successfully completed\n",
    "- **Programming Skills**: Self-assessed programming ability (1-10)\n",
    "- **Communication Skills**: Self-assessed communication ability (1-10)\n",
    "- **Projects Completed**: Number of projects completed\n",
    "- **Internship Experience**: Whether student has internship experience\n",
    "- **Promotion Status**: Final promotion decision\n"
   ]
  },
  {
   "cell_type": "code",
   "execution_count": null,
   "metadata": {},
   "outputs": [],
   "source": [
    "import os\n",
    "import pandas as pd\n",
    "import matplotlib.pyplot as plt\n",
    "import seaborn as sns\n",
    "from src.data_utils import load_data, create_colorful_excel_report, generate_summary_stats, create_visualizations\n",
    "\n",
    "# Load dataset\n",
    "data_path = os.path.join('..', 'data', 'student_promotion_data.csv')\n",
    "df = load_data(data_path)\n",
    "\n",
    "# Display first few rows\n",
    "df.head()"
   ]
  },
  {
   "cell_type": "markdown",
   "metadata": {},
   "source": [
    "## Summary Statistics"
   ]
  },
  {
   "cell_type": "code",
   "execution_count": null,
   "metadata": {},
   "outputs": [],
   "source": [
    "summary = generate_summary_stats(df)\n",
    "summary"
   ]
  },
  {
   "cell_type": "markdown",
   "metadata": {},
   "source": [
    "## Visualizations"
   ]
  },
  {
   "cell_type": "code",
   "execution_count": null,
   "metadata": {},
   "outputs": [],
   "source": [
    "# Create visualizations and save to reports folder\n",
    "output_dir = os.path.join('..', 'reports')\n",
    "os.makedirs(output_dir, exist_ok=True)\n",
    "create_visualizations(df, output_dir)\n",
    "\n",
    "# Show one of the saved images\n",
    "img_path = os.path.join(output_dir, 'student_analysis_charts.png')\n",
    "from IPython.display import Image\n",
    "Image(filename=img_path)"
   ]
  }
 ],
 "metadata": {
  "kernelspec": {
   "display_name": "Python 3",
   "language": "python",
   "name": "python3"
  },
  "language_info": {
   "name": "python",
   "version": "3.11.4"
  }
 },
 "nbformat": 4,
 "nbformat_minor": 5
}
